{
 "cells": [
  {
   "cell_type": "markdown",
   "metadata": {},
   "source": [
    "# Build a recommendation system"
   ]
  },
  {
   "cell_type": "code",
   "execution_count": 1,
   "metadata": {},
   "outputs": [],
   "source": [
    "import pandas as pd\n",
    "import matplotlib.pyplot as plt\n"
   ]
  },
  {
   "cell_type": "code",
   "execution_count": 2,
   "metadata": {},
   "outputs": [],
   "source": [
    "import pickle"
   ]
  },
  {
   "cell_type": "code",
   "execution_count": 3,
   "metadata": {},
   "outputs": [],
   "source": [
    "import numpy as np"
   ]
  },
  {
   "cell_type": "code",
   "execution_count": 4,
   "metadata": {},
   "outputs": [],
   "source": [
    "with open('../data/articles_embeddings.pickle','rb') as embedd:\n",
    "    embedding=pickle.load(embedd)\n"
   ]
  },
  {
   "cell_type": "code",
   "execution_count": 5,
   "metadata": {},
   "outputs": [
    {
     "data": {
      "text/plain": [
       "(364047, 250)"
      ]
     },
     "execution_count": 5,
     "metadata": {},
     "output_type": "execute_result"
    }
   ],
   "source": [
    "embedding.shape"
   ]
  },
  {
   "cell_type": "markdown",
   "metadata": {},
   "source": [
    "## Data Analyse"
   ]
  },
  {
   "cell_type": "code",
   "execution_count": 6,
   "metadata": {},
   "outputs": [],
   "source": [
    "article_meta=pd.read_csv('../data/articles_metadata.csv')\n",
    "click_sample=pd.read_csv('../data/clicks_sample.csv')"
   ]
  },
  {
   "cell_type": "code",
   "execution_count": 7,
   "metadata": {},
   "outputs": [
    {
     "data": {
      "text/html": [
       "<div>\n",
       "<style scoped>\n",
       "    .dataframe tbody tr th:only-of-type {\n",
       "        vertical-align: middle;\n",
       "    }\n",
       "\n",
       "    .dataframe tbody tr th {\n",
       "        vertical-align: top;\n",
       "    }\n",
       "\n",
       "    .dataframe thead th {\n",
       "        text-align: right;\n",
       "    }\n",
       "</style>\n",
       "<table border=\"1\" class=\"dataframe\">\n",
       "  <thead>\n",
       "    <tr style=\"text-align: right;\">\n",
       "      <th></th>\n",
       "      <th>article_id</th>\n",
       "      <th>category_id</th>\n",
       "      <th>created_at_ts</th>\n",
       "      <th>publisher_id</th>\n",
       "      <th>words_count</th>\n",
       "    </tr>\n",
       "  </thead>\n",
       "  <tbody>\n",
       "    <tr>\n",
       "      <th>0</th>\n",
       "      <td>0</td>\n",
       "      <td>0</td>\n",
       "      <td>1513144419000</td>\n",
       "      <td>0</td>\n",
       "      <td>168</td>\n",
       "    </tr>\n",
       "    <tr>\n",
       "      <th>1</th>\n",
       "      <td>1</td>\n",
       "      <td>1</td>\n",
       "      <td>1405341936000</td>\n",
       "      <td>0</td>\n",
       "      <td>189</td>\n",
       "    </tr>\n",
       "    <tr>\n",
       "      <th>2</th>\n",
       "      <td>2</td>\n",
       "      <td>1</td>\n",
       "      <td>1408667706000</td>\n",
       "      <td>0</td>\n",
       "      <td>250</td>\n",
       "    </tr>\n",
       "    <tr>\n",
       "      <th>3</th>\n",
       "      <td>3</td>\n",
       "      <td>1</td>\n",
       "      <td>1408468313000</td>\n",
       "      <td>0</td>\n",
       "      <td>230</td>\n",
       "    </tr>\n",
       "    <tr>\n",
       "      <th>4</th>\n",
       "      <td>4</td>\n",
       "      <td>1</td>\n",
       "      <td>1407071171000</td>\n",
       "      <td>0</td>\n",
       "      <td>162</td>\n",
       "    </tr>\n",
       "    <tr>\n",
       "      <th>...</th>\n",
       "      <td>...</td>\n",
       "      <td>...</td>\n",
       "      <td>...</td>\n",
       "      <td>...</td>\n",
       "      <td>...</td>\n",
       "    </tr>\n",
       "    <tr>\n",
       "      <th>364042</th>\n",
       "      <td>364042</td>\n",
       "      <td>460</td>\n",
       "      <td>1434034118000</td>\n",
       "      <td>0</td>\n",
       "      <td>144</td>\n",
       "    </tr>\n",
       "    <tr>\n",
       "      <th>364043</th>\n",
       "      <td>364043</td>\n",
       "      <td>460</td>\n",
       "      <td>1434148472000</td>\n",
       "      <td>0</td>\n",
       "      <td>463</td>\n",
       "    </tr>\n",
       "    <tr>\n",
       "      <th>364044</th>\n",
       "      <td>364044</td>\n",
       "      <td>460</td>\n",
       "      <td>1457974279000</td>\n",
       "      <td>0</td>\n",
       "      <td>177</td>\n",
       "    </tr>\n",
       "    <tr>\n",
       "      <th>364045</th>\n",
       "      <td>364045</td>\n",
       "      <td>460</td>\n",
       "      <td>1515964737000</td>\n",
       "      <td>0</td>\n",
       "      <td>126</td>\n",
       "    </tr>\n",
       "    <tr>\n",
       "      <th>364046</th>\n",
       "      <td>364046</td>\n",
       "      <td>460</td>\n",
       "      <td>1505811330000</td>\n",
       "      <td>0</td>\n",
       "      <td>479</td>\n",
       "    </tr>\n",
       "  </tbody>\n",
       "</table>\n",
       "<p>364047 rows × 5 columns</p>\n",
       "</div>"
      ],
      "text/plain": [
       "        article_id  category_id  created_at_ts  publisher_id  words_count\n",
       "0                0            0  1513144419000             0          168\n",
       "1                1            1  1405341936000             0          189\n",
       "2                2            1  1408667706000             0          250\n",
       "3                3            1  1408468313000             0          230\n",
       "4                4            1  1407071171000             0          162\n",
       "...            ...          ...            ...           ...          ...\n",
       "364042      364042          460  1434034118000             0          144\n",
       "364043      364043          460  1434148472000             0          463\n",
       "364044      364044          460  1457974279000             0          177\n",
       "364045      364045          460  1515964737000             0          126\n",
       "364046      364046          460  1505811330000             0          479\n",
       "\n",
       "[364047 rows x 5 columns]"
      ]
     },
     "execution_count": 7,
     "metadata": {},
     "output_type": "execute_result"
    }
   ],
   "source": [
    "article_meta"
   ]
  },
  {
   "cell_type": "code",
   "execution_count": 8,
   "metadata": {},
   "outputs": [
    {
     "data": {
      "text/plain": [
       "176     3485\n",
       "182     3480\n",
       "179     3463\n",
       "178     3458\n",
       "174     3456\n",
       "        ... \n",
       "556        1\n",
       "625        1\n",
       "2798       1\n",
       "767        1\n",
       "841        1\n",
       "Name: words_count, Length: 866, dtype: int64"
      ]
     },
     "execution_count": 8,
     "metadata": {},
     "output_type": "execute_result"
    }
   ],
   "source": [
    "article_meta.words_count.value_counts()"
   ]
  },
  {
   "cell_type": "code",
   "execution_count": 9,
   "metadata": {},
   "outputs": [
    {
     "data": {
      "text/plain": [
       "Text(0.5, 1.0, 'Words per article')"
      ]
     },
     "execution_count": 9,
     "metadata": {},
     "output_type": "execute_result"
    },
    {
     "data": {
      "image/png": "[encoded data removed]",
      "text/plain": [
       "<Figure size 432x288 with 1 Axes>"
      ]
     },
     "metadata": {
      "needs_background": "light"
     },
     "output_type": "display_data"
    }
   ],
   "source": [
    "article_meta.words_count.hist(bins=50, range=(0,400))\n",
    "plt.title('Words per article')"
   ]
  },
  {
   "cell_type": "markdown",
   "metadata": {},
   "source": [
    "- 5 variables :\n",
    "\n",
    "Article, Category article, time created, number of words and publisher ID "
   ]
  },
  {
   "cell_type": "code",
   "execution_count": 10,
   "metadata": {},
   "outputs": [
    {
     "data": {
      "text/html": [
       "<div>\n",
       "<style scoped>\n",
       "    .dataframe tbody tr th:only-of-type {\n",
       "        vertical-align: middle;\n",
       "    }\n",
       "\n",
       "    .dataframe tbody tr th {\n",
       "        vertical-align: top;\n",
       "    }\n",
       "\n",
       "    .dataframe thead th {\n",
       "        text-align: right;\n",
       "    }\n",
       "</style>\n",
       "<table border=\"1\" class=\"dataframe\">\n",
       "  <thead>\n",
       "    <tr style=\"text-align: right;\">\n",
       "      <th></th>\n",
       "      <th>user_id</th>\n",
       "      <th>session_id</th>\n",
       "      <th>session_start</th>\n",
       "      <th>session_size</th>\n",
       "      <th>click_article_id</th>\n",
       "      <th>click_timestamp</th>\n",
       "      <th>click_environment</th>\n",
       "      <th>click_deviceGroup</th>\n",
       "      <th>click_os</th>\n",
       "      <th>click_country</th>\n",
       "      <th>click_region</th>\n",
       "      <th>click_referrer_type</th>\n",
       "    </tr>\n",
       "  </thead>\n",
       "  <tbody>\n",
       "    <tr>\n",
       "      <th>0</th>\n",
       "      <td>0</td>\n",
       "      <td>1506825423271737</td>\n",
       "      <td>1506825423000</td>\n",
       "      <td>2</td>\n",
       "      <td>157541</td>\n",
       "      <td>1506826828020</td>\n",
       "      <td>4</td>\n",
       "      <td>3</td>\n",
       "      <td>20</td>\n",
       "      <td>1</td>\n",
       "      <td>20</td>\n",
       "      <td>2</td>\n",
       "    </tr>\n",
       "    <tr>\n",
       "      <th>1</th>\n",
       "      <td>0</td>\n",
       "      <td>1506825423271737</td>\n",
       "      <td>1506825423000</td>\n",
       "      <td>2</td>\n",
       "      <td>68866</td>\n",
       "      <td>1506826858020</td>\n",
       "      <td>4</td>\n",
       "      <td>3</td>\n",
       "      <td>20</td>\n",
       "      <td>1</td>\n",
       "      <td>20</td>\n",
       "      <td>2</td>\n",
       "    </tr>\n",
       "    <tr>\n",
       "      <th>2</th>\n",
       "      <td>1</td>\n",
       "      <td>1506825426267738</td>\n",
       "      <td>1506825426000</td>\n",
       "      <td>2</td>\n",
       "      <td>235840</td>\n",
       "      <td>1506827017951</td>\n",
       "      <td>4</td>\n",
       "      <td>1</td>\n",
       "      <td>17</td>\n",
       "      <td>1</td>\n",
       "      <td>16</td>\n",
       "      <td>2</td>\n",
       "    </tr>\n",
       "    <tr>\n",
       "      <th>3</th>\n",
       "      <td>1</td>\n",
       "      <td>1506825426267738</td>\n",
       "      <td>1506825426000</td>\n",
       "      <td>2</td>\n",
       "      <td>96663</td>\n",
       "      <td>1506827047951</td>\n",
       "      <td>4</td>\n",
       "      <td>1</td>\n",
       "      <td>17</td>\n",
       "      <td>1</td>\n",
       "      <td>16</td>\n",
       "      <td>2</td>\n",
       "    </tr>\n",
       "    <tr>\n",
       "      <th>4</th>\n",
       "      <td>2</td>\n",
       "      <td>1506825435299739</td>\n",
       "      <td>1506825435000</td>\n",
       "      <td>2</td>\n",
       "      <td>119592</td>\n",
       "      <td>1506827090575</td>\n",
       "      <td>4</td>\n",
       "      <td>1</td>\n",
       "      <td>17</td>\n",
       "      <td>1</td>\n",
       "      <td>24</td>\n",
       "      <td>2</td>\n",
       "    </tr>\n",
       "    <tr>\n",
       "      <th>...</th>\n",
       "      <td>...</td>\n",
       "      <td>...</td>\n",
       "      <td>...</td>\n",
       "      <td>...</td>\n",
       "      <td>...</td>\n",
       "      <td>...</td>\n",
       "      <td>...</td>\n",
       "      <td>...</td>\n",
       "      <td>...</td>\n",
       "      <td>...</td>\n",
       "      <td>...</td>\n",
       "      <td>...</td>\n",
       "    </tr>\n",
       "    <tr>\n",
       "      <th>1878</th>\n",
       "      <td>705</td>\n",
       "      <td>1506828968165442</td>\n",
       "      <td>1506828968000</td>\n",
       "      <td>2</td>\n",
       "      <td>119592</td>\n",
       "      <td>1506830912301</td>\n",
       "      <td>4</td>\n",
       "      <td>1</td>\n",
       "      <td>17</td>\n",
       "      <td>1</td>\n",
       "      <td>21</td>\n",
       "      <td>2</td>\n",
       "    </tr>\n",
       "    <tr>\n",
       "      <th>1879</th>\n",
       "      <td>705</td>\n",
       "      <td>1506828968165442</td>\n",
       "      <td>1506828968000</td>\n",
       "      <td>2</td>\n",
       "      <td>284847</td>\n",
       "      <td>1506830942301</td>\n",
       "      <td>4</td>\n",
       "      <td>1</td>\n",
       "      <td>17</td>\n",
       "      <td>1</td>\n",
       "      <td>21</td>\n",
       "      <td>2</td>\n",
       "    </tr>\n",
       "    <tr>\n",
       "      <th>1880</th>\n",
       "      <td>706</td>\n",
       "      <td>1506828979881443</td>\n",
       "      <td>1506828979000</td>\n",
       "      <td>3</td>\n",
       "      <td>108854</td>\n",
       "      <td>1506829027334</td>\n",
       "      <td>4</td>\n",
       "      <td>3</td>\n",
       "      <td>2</td>\n",
       "      <td>1</td>\n",
       "      <td>25</td>\n",
       "      <td>1</td>\n",
       "    </tr>\n",
       "    <tr>\n",
       "      <th>1881</th>\n",
       "      <td>706</td>\n",
       "      <td>1506828979881443</td>\n",
       "      <td>1506828979000</td>\n",
       "      <td>3</td>\n",
       "      <td>96663</td>\n",
       "      <td>1506829095732</td>\n",
       "      <td>4</td>\n",
       "      <td>3</td>\n",
       "      <td>2</td>\n",
       "      <td>1</td>\n",
       "      <td>25</td>\n",
       "      <td>1</td>\n",
       "    </tr>\n",
       "    <tr>\n",
       "      <th>1882</th>\n",
       "      <td>706</td>\n",
       "      <td>1506828979881443</td>\n",
       "      <td>1506828979000</td>\n",
       "      <td>3</td>\n",
       "      <td>68866</td>\n",
       "      <td>1506829125732</td>\n",
       "      <td>4</td>\n",
       "      <td>3</td>\n",
       "      <td>2</td>\n",
       "      <td>1</td>\n",
       "      <td>25</td>\n",
       "      <td>1</td>\n",
       "    </tr>\n",
       "  </tbody>\n",
       "</table>\n",
       "<p>1883 rows × 12 columns</p>\n",
       "</div>"
      ],
      "text/plain": [
       "      user_id        session_id  session_start  session_size  \\\n",
       "0           0  1506825423271737  1506825423000             2   \n",
       "1           0  1506825423271737  1506825423000             2   \n",
       "2           1  1506825426267738  1506825426000             2   \n",
       "3           1  1506825426267738  1506825426000             2   \n",
       "4           2  1506825435299739  1506825435000             2   \n",
       "...       ...               ...            ...           ...   \n",
       "1878      705  1506828968165442  1506828968000             2   \n",
       "1879      705  1506828968165442  1506828968000             2   \n",
       "1880      706  1506828979881443  1506828979000             3   \n",
       "1881      706  1506828979881443  1506828979000             3   \n",
       "1882      706  1506828979881443  1506828979000             3   \n",
       "\n",
       "      click_article_id  click_timestamp  click_environment  click_deviceGroup  \\\n",
       "0               157541    1506826828020                  4                  3   \n",
       "1                68866    1506826858020                  4                  3   \n",
       "2               235840    1506827017951                  4                  1   \n",
       "3                96663    1506827047951                  4                  1   \n",
       "4               119592    1506827090575                  4                  1   \n",
       "...                ...              ...                ...                ...   \n",
       "1878            119592    1506830912301                  4                  1   \n",
       "1879            284847    1506830942301                  4                  1   \n",
       "1880            108854    1506829027334                  4                  3   \n",
       "1881             96663    1506829095732                  4                  3   \n",
       "1882             68866    1506829125732                  4                  3   \n",
       "\n",
       "      click_os  click_country  click_region  click_referrer_type  \n",
       "0           20              1            20                    2  \n",
       "1           20              1            20                    2  \n",
       "2           17              1            16                    2  \n",
       "3           17              1            16                    2  \n",
       "4           17              1            24                    2  \n",
       "...        ...            ...           ...                  ...  \n",
       "1878        17              1            21                    2  \n",
       "1879        17              1            21                    2  \n",
       "1880         2              1            25                    1  \n",
       "1881         2              1            25                    1  \n",
       "1882         2              1            25                    1  \n",
       "\n",
       "[1883 rows x 12 columns]"
      ]
     },
     "execution_count": 10,
     "metadata": {},
     "output_type": "execute_result"
    }
   ],
   "source": [
    "click_sample"
   ]
  },
  {
   "cell_type": "code",
   "execution_count": 11,
   "metadata": {},
   "outputs": [],
   "source": [
    "session_size=click_sample.session_size.value_counts()"
   ]
  },
  {
   "cell_type": "code",
   "execution_count": 12,
   "metadata": {},
   "outputs": [
    {
     "data": {
      "text/plain": [
       "2     904\n",
       "3     489\n",
       "4     168\n",
       "5     140\n",
       "6      48\n",
       "7      42\n",
       "8      24\n",
       "24     24\n",
       "9      18\n",
       "16     16\n",
       "10     10\n",
       "Name: session_size, dtype: int64"
      ]
     },
     "execution_count": 12,
     "metadata": {},
     "output_type": "execute_result"
    }
   ],
   "source": [
    "session_size"
   ]
  },
  {
   "cell_type": "code",
   "execution_count": 13,
   "metadata": {},
   "outputs": [
    {
     "data": {
      "image/png": "[encoded data removed]",
      "text/plain": [
       "<Figure size 432x288 with 1 Axes>"
      ]
     },
     "metadata": {
      "needs_background": "light"
     },
     "output_type": "display_data"
    }
   ],
   "source": [
    "click_sample.session_size.hist(bins=24, range=(0,10))\n",
    "plt.title('Clicks per session');\n"
   ]
  },
  {
   "cell_type": "markdown",
   "metadata": {},
   "source": [
    "## Try differents recommendation system"
   ]
  },
  {
   "cell_type": "markdown",
   "metadata": {},
   "source": [
    "### Group every click file"
   ]
  },
  {
   "cell_type": "code",
   "execution_count": 14,
   "metadata": {},
   "outputs": [],
   "source": [
    "\n",
    "import glob\n",
    "\n",
    "path = r'../data/clicks' # use your path\n",
    "all_files = glob.glob(path + \"/*.csv\")\n",
    "\n",
    "li = []\n",
    "\n",
    "for filename in all_files:\n",
    "    df = pd.read_csv(filename, index_col=None, header=0)\n",
    "    li.append(df)\n",
    "\n",
    "clicks = pd.concat(li, axis=0, ignore_index=True)"
   ]
  },
  {
   "cell_type": "code",
   "execution_count": 15,
   "metadata": {},
   "outputs": [
    {
     "data": {
      "text/html": [
       "<div>\n",
       "<style scoped>\n",
       "    .dataframe tbody tr th:only-of-type {\n",
       "        vertical-align: middle;\n",
       "    }\n",
       "\n",
       "    .dataframe tbody tr th {\n",
       "        vertical-align: top;\n",
       "    }\n",
       "\n",
       "    .dataframe thead th {\n",
       "        text-align: right;\n",
       "    }\n",
       "</style>\n",
       "<table border=\"1\" class=\"dataframe\">\n",
       "  <thead>\n",
       "    <tr style=\"text-align: right;\">\n",
       "      <th></th>\n",
       "      <th>user_id</th>\n",
       "      <th>session_id</th>\n",
       "      <th>session_start</th>\n",
       "      <th>session_size</th>\n",
       "      <th>click_article_id</th>\n",
       "      <th>click_timestamp</th>\n",
       "      <th>click_environment</th>\n",
       "      <th>click_deviceGroup</th>\n",
       "      <th>click_os</th>\n",
       "      <th>click_country</th>\n",
       "      <th>click_region</th>\n",
       "      <th>click_referrer_type</th>\n",
       "    </tr>\n",
       "  </thead>\n",
       "  <tbody>\n",
       "    <tr>\n",
       "      <th>0</th>\n",
       "      <td>0</td>\n",
       "      <td>1506825423271737</td>\n",
       "      <td>1506825423000</td>\n",
       "      <td>2</td>\n",
       "      <td>157541</td>\n",
       "      <td>1506826828020</td>\n",
       "      <td>4</td>\n",
       "      <td>3</td>\n",
       "      <td>20</td>\n",
       "      <td>1</td>\n",
       "      <td>20</td>\n",
       "      <td>2</td>\n",
       "    </tr>\n",
       "    <tr>\n",
       "      <th>1</th>\n",
       "      <td>0</td>\n",
       "      <td>1506825423271737</td>\n",
       "      <td>1506825423000</td>\n",
       "      <td>2</td>\n",
       "      <td>68866</td>\n",
       "      <td>1506826858020</td>\n",
       "      <td>4</td>\n",
       "      <td>3</td>\n",
       "      <td>20</td>\n",
       "      <td>1</td>\n",
       "      <td>20</td>\n",
       "      <td>2</td>\n",
       "    </tr>\n",
       "    <tr>\n",
       "      <th>1287361</th>\n",
       "      <td>0</td>\n",
       "      <td>1507340000920377</td>\n",
       "      <td>1507340000000</td>\n",
       "      <td>2</td>\n",
       "      <td>96755</td>\n",
       "      <td>1507340033155</td>\n",
       "      <td>4</td>\n",
       "      <td>3</td>\n",
       "      <td>20</td>\n",
       "      <td>1</td>\n",
       "      <td>20</td>\n",
       "      <td>2</td>\n",
       "    </tr>\n",
       "    <tr>\n",
       "      <th>1287362</th>\n",
       "      <td>0</td>\n",
       "      <td>1507340000920377</td>\n",
       "      <td>1507340000000</td>\n",
       "      <td>2</td>\n",
       "      <td>313996</td>\n",
       "      <td>1507340063155</td>\n",
       "      <td>4</td>\n",
       "      <td>3</td>\n",
       "      <td>20</td>\n",
       "      <td>1</td>\n",
       "      <td>20</td>\n",
       "      <td>2</td>\n",
       "    </tr>\n",
       "    <tr>\n",
       "      <th>1352197</th>\n",
       "      <td>0</td>\n",
       "      <td>1507385847186982</td>\n",
       "      <td>1507385847000</td>\n",
       "      <td>2</td>\n",
       "      <td>160158</td>\n",
       "      <td>1507388090915</td>\n",
       "      <td>4</td>\n",
       "      <td>3</td>\n",
       "      <td>20</td>\n",
       "      <td>1</td>\n",
       "      <td>20</td>\n",
       "      <td>2</td>\n",
       "    </tr>\n",
       "    <tr>\n",
       "      <th>1352198</th>\n",
       "      <td>0</td>\n",
       "      <td>1507385847186982</td>\n",
       "      <td>1507385847000</td>\n",
       "      <td>2</td>\n",
       "      <td>233470</td>\n",
       "      <td>1507388120915</td>\n",
       "      <td>4</td>\n",
       "      <td>3</td>\n",
       "      <td>20</td>\n",
       "      <td>1</td>\n",
       "      <td>20</td>\n",
       "      <td>2</td>\n",
       "    </tr>\n",
       "    <tr>\n",
       "      <th>1535240</th>\n",
       "      <td>0</td>\n",
       "      <td>1507514030209212</td>\n",
       "      <td>1507514030000</td>\n",
       "      <td>2</td>\n",
       "      <td>87224</td>\n",
       "      <td>1507514056617</td>\n",
       "      <td>4</td>\n",
       "      <td>3</td>\n",
       "      <td>20</td>\n",
       "      <td>1</td>\n",
       "      <td>20</td>\n",
       "      <td>2</td>\n",
       "    </tr>\n",
       "    <tr>\n",
       "      <th>1535241</th>\n",
       "      <td>0</td>\n",
       "      <td>1507514030209212</td>\n",
       "      <td>1507514030000</td>\n",
       "      <td>2</td>\n",
       "      <td>87205</td>\n",
       "      <td>1507514086617</td>\n",
       "      <td>4</td>\n",
       "      <td>3</td>\n",
       "      <td>20</td>\n",
       "      <td>1</td>\n",
       "      <td>20</td>\n",
       "      <td>2</td>\n",
       "    </tr>\n",
       "  </tbody>\n",
       "</table>\n",
       "</div>"
      ],
      "text/plain": [
       "        user_id        session_id  session_start session_size  \\\n",
       "0             0  1506825423271737  1506825423000            2   \n",
       "1             0  1506825423271737  1506825423000            2   \n",
       "1287361       0  1507340000920377  1507340000000            2   \n",
       "1287362       0  1507340000920377  1507340000000            2   \n",
       "1352197       0  1507385847186982  1507385847000            2   \n",
       "1352198       0  1507385847186982  1507385847000            2   \n",
       "1535240       0  1507514030209212  1507514030000            2   \n",
       "1535241       0  1507514030209212  1507514030000            2   \n",
       "\n",
       "        click_article_id click_timestamp click_environment click_deviceGroup  \\\n",
       "0                 157541   1506826828020                 4                 3   \n",
       "1                  68866   1506826858020                 4                 3   \n",
       "1287361            96755   1507340033155                 4                 3   \n",
       "1287362           313996   1507340063155                 4                 3   \n",
       "1352197           160158   1507388090915                 4                 3   \n",
       "1352198           233470   1507388120915                 4                 3   \n",
       "1535240            87224   1507514056617                 4                 3   \n",
       "1535241            87205   1507514086617                 4                 3   \n",
       "\n",
       "        click_os click_country click_region click_referrer_type  \n",
       "0             20             1           20                   2  \n",
       "1             20             1           20                   2  \n",
       "1287361       20             1           20                   2  \n",
       "1287362       20             1           20                   2  \n",
       "1352197       20             1           20                   2  \n",
       "1352198       20             1           20                   2  \n",
       "1535240       20             1           20                   2  \n",
       "1535241       20             1           20                   2  "
      ]
     },
     "execution_count": 15,
     "metadata": {},
     "output_type": "execute_result"
    }
   ],
   "source": [
    "clicks[clicks.user_id==0]"
   ]
  },
  {
   "cell_type": "code",
   "execution_count": 16,
   "metadata": {},
   "outputs": [
    {
     "name": "stdout",
     "output_type": "stream",
     "text": [
      "dt_object = 2017-10-09 03:54:46\n",
      "dt_object = 2017-10-07 03:33:53\n"
     ]
    }
   ],
   "source": [
    "from datetime import datetime\n",
    "\n",
    "timestamp = 1507514086\n",
    "timestamp1 = 1507340033\n",
    "\n",
    "dt_object = datetime.fromtimestamp(timestamp)\n",
    "dt_object1 = datetime.fromtimestamp(timestamp1)\n",
    "print(\"dt_object =\", dt_object)\n",
    "print(\"dt_object =\", dt_object1)\n"
   ]
  },
  {
   "cell_type": "code",
   "execution_count": 17,
   "metadata": {},
   "outputs": [
    {
     "data": {
      "text/html": [
       "<div>\n",
       "<style scoped>\n",
       "    .dataframe tbody tr th:only-of-type {\n",
       "        vertical-align: middle;\n",
       "    }\n",
       "\n",
       "    .dataframe tbody tr th {\n",
       "        vertical-align: top;\n",
       "    }\n",
       "\n",
       "    .dataframe thead th {\n",
       "        text-align: right;\n",
       "    }\n",
       "</style>\n",
       "<table border=\"1\" class=\"dataframe\">\n",
       "  <thead>\n",
       "    <tr style=\"text-align: right;\">\n",
       "      <th></th>\n",
       "      <th>LIST_click_article_id</th>\n",
       "    </tr>\n",
       "    <tr>\n",
       "      <th>user_id</th>\n",
       "      <th></th>\n",
       "    </tr>\n",
       "  </thead>\n",
       "  <tbody>\n",
       "    <tr>\n",
       "      <th>0</th>\n",
       "      <td>[157541, 68866, 96755, 313996, 160158, 233470,...</td>\n",
       "    </tr>\n",
       "    <tr>\n",
       "      <th>1</th>\n",
       "      <td>[235840, 96663, 59758, 160474, 285719, 156723,...</td>\n",
       "    </tr>\n",
       "    <tr>\n",
       "      <th>2</th>\n",
       "      <td>[119592, 30970, 30760, 209122]</td>\n",
       "    </tr>\n",
       "    <tr>\n",
       "      <th>3</th>\n",
       "      <td>[236065, 236294, 234686, 233769, 235665, 23513...</td>\n",
       "    </tr>\n",
       "    <tr>\n",
       "      <th>4</th>\n",
       "      <td>[48915, 44488, 195887, 195084, 63307, 336499, ...</td>\n",
       "    </tr>\n",
       "    <tr>\n",
       "      <th>...</th>\n",
       "      <td>...</td>\n",
       "    </tr>\n",
       "    <tr>\n",
       "      <th>322892</th>\n",
       "      <td>[42567, 39894]</td>\n",
       "    </tr>\n",
       "    <tr>\n",
       "      <th>322893</th>\n",
       "      <td>[50644, 36162]</td>\n",
       "    </tr>\n",
       "    <tr>\n",
       "      <th>322894</th>\n",
       "      <td>[36162, 168401]</td>\n",
       "    </tr>\n",
       "    <tr>\n",
       "      <th>322895</th>\n",
       "      <td>[289197, 63746]</td>\n",
       "    </tr>\n",
       "    <tr>\n",
       "      <th>322896</th>\n",
       "      <td>[30760, 157507]</td>\n",
       "    </tr>\n",
       "  </tbody>\n",
       "</table>\n",
       "<p>322897 rows × 1 columns</p>\n",
       "</div>"
      ],
      "text/plain": [
       "                                     LIST_click_article_id\n",
       "user_id                                                   \n",
       "0        [157541, 68866, 96755, 313996, 160158, 233470,...\n",
       "1        [235840, 96663, 59758, 160474, 285719, 156723,...\n",
       "2                           [119592, 30970, 30760, 209122]\n",
       "3        [236065, 236294, 234686, 233769, 235665, 23513...\n",
       "4        [48915, 44488, 195887, 195084, 63307, 336499, ...\n",
       "...                                                    ...\n",
       "322892                                      [42567, 39894]\n",
       "322893                                      [50644, 36162]\n",
       "322894                                     [36162, 168401]\n",
       "322895                                     [289197, 63746]\n",
       "322896                                     [30760, 157507]\n",
       "\n",
       "[322897 rows x 1 columns]"
      ]
     },
     "execution_count": 17,
     "metadata": {},
     "output_type": "execute_result"
    }
   ],
   "source": [
    "df = clicks.groupby('user_id').agg(\n",
    "    LIST_click_article_id = ('click_article_id', lambda x: list(x)),\n",
    ")\n",
    "df"
   ]
  },
  {
   "cell_type": "code",
   "execution_count": 18,
   "metadata": {},
   "outputs": [
    {
     "data": {
      "text/html": [
       "<div>\n",
       "<style scoped>\n",
       "    .dataframe tbody tr th:only-of-type {\n",
       "        vertical-align: middle;\n",
       "    }\n",
       "\n",
       "    .dataframe tbody tr th {\n",
       "        vertical-align: top;\n",
       "    }\n",
       "\n",
       "    .dataframe thead th {\n",
       "        text-align: right;\n",
       "    }\n",
       "</style>\n",
       "<table border=\"1\" class=\"dataframe\">\n",
       "  <thead>\n",
       "    <tr style=\"text-align: right;\">\n",
       "      <th></th>\n",
       "      <th>article_id</th>\n",
       "      <th>category_id</th>\n",
       "      <th>created_at_ts</th>\n",
       "      <th>publisher_id</th>\n",
       "      <th>words_count</th>\n",
       "    </tr>\n",
       "  </thead>\n",
       "  <tbody>\n",
       "    <tr>\n",
       "      <th>0</th>\n",
       "      <td>0</td>\n",
       "      <td>0</td>\n",
       "      <td>1513144419000</td>\n",
       "      <td>0</td>\n",
       "      <td>168</td>\n",
       "    </tr>\n",
       "    <tr>\n",
       "      <th>1</th>\n",
       "      <td>1</td>\n",
       "      <td>1</td>\n",
       "      <td>1405341936000</td>\n",
       "      <td>0</td>\n",
       "      <td>189</td>\n",
       "    </tr>\n",
       "    <tr>\n",
       "      <th>2</th>\n",
       "      <td>2</td>\n",
       "      <td>1</td>\n",
       "      <td>1408667706000</td>\n",
       "      <td>0</td>\n",
       "      <td>250</td>\n",
       "    </tr>\n",
       "    <tr>\n",
       "      <th>3</th>\n",
       "      <td>3</td>\n",
       "      <td>1</td>\n",
       "      <td>1408468313000</td>\n",
       "      <td>0</td>\n",
       "      <td>230</td>\n",
       "    </tr>\n",
       "    <tr>\n",
       "      <th>4</th>\n",
       "      <td>4</td>\n",
       "      <td>1</td>\n",
       "      <td>1407071171000</td>\n",
       "      <td>0</td>\n",
       "      <td>162</td>\n",
       "    </tr>\n",
       "    <tr>\n",
       "      <th>...</th>\n",
       "      <td>...</td>\n",
       "      <td>...</td>\n",
       "      <td>...</td>\n",
       "      <td>...</td>\n",
       "      <td>...</td>\n",
       "    </tr>\n",
       "    <tr>\n",
       "      <th>364042</th>\n",
       "      <td>364042</td>\n",
       "      <td>460</td>\n",
       "      <td>1434034118000</td>\n",
       "      <td>0</td>\n",
       "      <td>144</td>\n",
       "    </tr>\n",
       "    <tr>\n",
       "      <th>364043</th>\n",
       "      <td>364043</td>\n",
       "      <td>460</td>\n",
       "      <td>1434148472000</td>\n",
       "      <td>0</td>\n",
       "      <td>463</td>\n",
       "    </tr>\n",
       "    <tr>\n",
       "      <th>364044</th>\n",
       "      <td>364044</td>\n",
       "      <td>460</td>\n",
       "      <td>1457974279000</td>\n",
       "      <td>0</td>\n",
       "      <td>177</td>\n",
       "    </tr>\n",
       "    <tr>\n",
       "      <th>364045</th>\n",
       "      <td>364045</td>\n",
       "      <td>460</td>\n",
       "      <td>1515964737000</td>\n",
       "      <td>0</td>\n",
       "      <td>126</td>\n",
       "    </tr>\n",
       "    <tr>\n",
       "      <th>364046</th>\n",
       "      <td>364046</td>\n",
       "      <td>460</td>\n",
       "      <td>1505811330000</td>\n",
       "      <td>0</td>\n",
       "      <td>479</td>\n",
       "    </tr>\n",
       "  </tbody>\n",
       "</table>\n",
       "<p>364047 rows × 5 columns</p>\n",
       "</div>"
      ],
      "text/plain": [
       "        article_id  category_id  created_at_ts  publisher_id  words_count\n",
       "0                0            0  1513144419000             0          168\n",
       "1                1            1  1405341936000             0          189\n",
       "2                2            1  1408667706000             0          250\n",
       "3                3            1  1408468313000             0          230\n",
       "4                4            1  1407071171000             0          162\n",
       "...            ...          ...            ...           ...          ...\n",
       "364042      364042          460  1434034118000             0          144\n",
       "364043      364043          460  1434148472000             0          463\n",
       "364044      364044          460  1457974279000             0          177\n",
       "364045      364045          460  1515964737000             0          126\n",
       "364046      364046          460  1505811330000             0          479\n",
       "\n",
       "[364047 rows x 5 columns]"
      ]
     },
     "execution_count": 18,
     "metadata": {},
     "output_type": "execute_result"
    }
   ],
   "source": [
    "article_meta"
   ]
  },
  {
   "cell_type": "markdown",
   "metadata": {},
   "source": [
    " Regarde sur chaque utilisateur, les catégories des articles cliqués et les ajoutes à la dataframe"
   ]
  },
  {
   "cell_type": "code",
   "execution_count": 19,
   "metadata": {},
   "outputs": [
    {
     "data": {
      "text/plain": [
       "460"
      ]
     },
     "execution_count": 19,
     "metadata": {},
     "output_type": "execute_result"
    }
   ],
   "source": [
    "article_meta[article_meta.article_id == 364042].category_id.values[0]"
   ]
  },
  {
   "cell_type": "code",
   "execution_count": 12,
   "metadata": {},
   "outputs": [
    {
     "ename": "AttributeError",
     "evalue": "'Series' object has no attribute 'LIST_click_article_id'",
     "output_type": "error",
     "traceback": [
      "\u001b[1;31m---------------------------------------------------------------------------\u001b[0m",
      "\u001b[1;31mAttributeError\u001b[0m                            Traceback (most recent call last)",
      "\u001b[1;32m~\\AppData\\Local\\Temp/ipykernel_41600/1761666065.py\u001b[0m in \u001b[0;36m<module>\u001b[1;34m\u001b[0m\n\u001b[0;32m      4\u001b[0m \u001b[1;33m\u001b[0m\u001b[0m\n\u001b[0;32m      5\u001b[0m     \u001b[0m_list_row\u001b[0m \u001b[1;33m=\u001b[0m \u001b[1;33m[\u001b[0m\u001b[1;33m]\u001b[0m\u001b[1;33m\u001b[0m\u001b[1;33m\u001b[0m\u001b[0m\n\u001b[1;32m----> 6\u001b[1;33m     \u001b[1;32mfor\u001b[0m \u001b[0marticle\u001b[0m \u001b[1;32min\u001b[0m \u001b[0mrow\u001b[0m\u001b[1;33m.\u001b[0m\u001b[0mLIST_click_article_id\u001b[0m\u001b[1;33m:\u001b[0m\u001b[1;33m\u001b[0m\u001b[1;33m\u001b[0m\u001b[0m\n\u001b[0m\u001b[0;32m      7\u001b[0m         \u001b[0m_list_row\u001b[0m\u001b[1;33m.\u001b[0m\u001b[0mappend\u001b[0m\u001b[1;33m(\u001b[0m\u001b[0marticle_meta\u001b[0m\u001b[1;33m[\u001b[0m\u001b[0marticle_meta\u001b[0m\u001b[1;33m.\u001b[0m\u001b[0marticle_id\u001b[0m \u001b[1;33m==\u001b[0m \u001b[0marticle\u001b[0m\u001b[1;33m]\u001b[0m\u001b[1;33m.\u001b[0m\u001b[0mcategory_id\u001b[0m\u001b[1;33m.\u001b[0m\u001b[0mvalues\u001b[0m\u001b[1;33m[\u001b[0m\u001b[1;36m0\u001b[0m\u001b[1;33m]\u001b[0m\u001b[1;33m)\u001b[0m\u001b[1;33m\u001b[0m\u001b[1;33m\u001b[0m\u001b[0m\n\u001b[0;32m      8\u001b[0m         \u001b[0mdf\u001b[0m\u001b[1;33m.\u001b[0m\u001b[0mloc\u001b[0m\u001b[1;33m[\u001b[0m\u001b[0mindex\u001b[0m\u001b[1;33m]\u001b[0m\u001b[1;33m[\u001b[0m\u001b[1;34m'categories'\u001b[0m\u001b[1;33m]\u001b[0m\u001b[1;33m=\u001b[0m\u001b[0m_list_row\u001b[0m\u001b[1;33m\u001b[0m\u001b[1;33m\u001b[0m\u001b[0m\n",
      "\u001b[1;32mC:\\Program Files\\Python 3.9.7\\lib\\site-packages\\pandas\\core\\generic.py\u001b[0m in \u001b[0;36m__getattr__\u001b[1;34m(self, name)\u001b[0m\n\u001b[0;32m   5485\u001b[0m         ):\n\u001b[0;32m   5486\u001b[0m             \u001b[1;32mreturn\u001b[0m \u001b[0mself\u001b[0m\u001b[1;33m[\u001b[0m\u001b[0mname\u001b[0m\u001b[1;33m]\u001b[0m\u001b[1;33m\u001b[0m\u001b[1;33m\u001b[0m\u001b[0m\n\u001b[1;32m-> 5487\u001b[1;33m         \u001b[1;32mreturn\u001b[0m \u001b[0mobject\u001b[0m\u001b[1;33m.\u001b[0m\u001b[0m__getattribute__\u001b[0m\u001b[1;33m(\u001b[0m\u001b[0mself\u001b[0m\u001b[1;33m,\u001b[0m \u001b[0mname\u001b[0m\u001b[1;33m)\u001b[0m\u001b[1;33m\u001b[0m\u001b[1;33m\u001b[0m\u001b[0m\n\u001b[0m\u001b[0;32m   5488\u001b[0m \u001b[1;33m\u001b[0m\u001b[0m\n\u001b[0;32m   5489\u001b[0m     \u001b[1;32mdef\u001b[0m \u001b[0m__setattr__\u001b[0m\u001b[1;33m(\u001b[0m\u001b[0mself\u001b[0m\u001b[1;33m,\u001b[0m \u001b[0mname\u001b[0m\u001b[1;33m:\u001b[0m \u001b[0mstr\u001b[0m\u001b[1;33m,\u001b[0m \u001b[0mvalue\u001b[0m\u001b[1;33m)\u001b[0m \u001b[1;33m->\u001b[0m \u001b[1;32mNone\u001b[0m\u001b[1;33m:\u001b[0m\u001b[1;33m\u001b[0m\u001b[1;33m\u001b[0m\u001b[0m\n",
      "\u001b[1;31mAttributeError\u001b[0m: 'Series' object has no attribute 'LIST_click_article_id'"
     ]
    }
   ],
   "source": [
    "df['categories'] = ''\n",
    "\n",
    "for index, row in df.iterrows():\n",
    "        \n",
    "    _list_row = []\n",
    "    for article in row.LIST_click_article_id:\n",
    "        _list_row.append(article_meta[article_meta.article_id == article].category_id.values[0])\n",
    "        df.loc[index]['categories']=_list_row\n",
    "    \n",
    "   "
   ]
  },
  {
   "cell_type": "markdown",
   "metadata": {},
   "source": [
    "30 minutes pour run, on va sauvegarder notre csv."
   ]
  },
  {
   "cell_type": "code",
   "execution_count": null,
   "metadata": {},
   "outputs": [
    {
     "ename": "NameError",
     "evalue": "name 'df' is not defined",
     "output_type": "error",
     "traceback": [
      "\u001b[0;31m---------------------------------------------------------------------------\u001b[0m",
      "\u001b[0;31mNameError\u001b[0m                                 Traceback (most recent call last)",
      "\u001b[0;32m<ipython-input-17-6afa9aa8c24e>\u001b[0m in \u001b[0;36m<module>\u001b[0;34m\u001b[0m\n\u001b[0;32m----> 1\u001b[0;31m \u001b[0mdf\u001b[0m\u001b[0;34m.\u001b[0m\u001b[0mto_csv\u001b[0m\u001b[0;34m(\u001b[0m\u001b[0;34m'df.csv'\u001b[0m\u001b[0;34m)\u001b[0m\u001b[0;34m\u001b[0m\u001b[0;34m\u001b[0m\u001b[0m\n\u001b[0m",
      "\u001b[0;31mNameError\u001b[0m: name 'df' is not defined"
     ]
    }
   ],
   "source": [
    "df.to_csv('df.csv')"
   ]
  },
  {
   "cell_type": "code",
   "execution_count": 20,
   "metadata": {},
   "outputs": [],
   "source": [
    "df=pd.read_csv('../data/df.csv')\n"
   ]
  },
  {
   "cell_type": "code",
   "execution_count": 21,
   "metadata": {},
   "outputs": [
    {
     "data": {
      "text/html": [
       "<div>\n",
       "<style scoped>\n",
       "    .dataframe tbody tr th:only-of-type {\n",
       "        vertical-align: middle;\n",
       "    }\n",
       "\n",
       "    .dataframe tbody tr th {\n",
       "        vertical-align: top;\n",
       "    }\n",
       "\n",
       "    .dataframe thead th {\n",
       "        text-align: right;\n",
       "    }\n",
       "</style>\n",
       "<table border=\"1\" class=\"dataframe\">\n",
       "  <thead>\n",
       "    <tr style=\"text-align: right;\">\n",
       "      <th></th>\n",
       "      <th>user_id</th>\n",
       "      <th>LIST_click_article_id</th>\n",
       "    </tr>\n",
       "  </thead>\n",
       "  <tbody>\n",
       "    <tr>\n",
       "      <th>0</th>\n",
       "      <td>0</td>\n",
       "      <td>[157541, 68866, 96755, 313996, 160158, 233470,...</td>\n",
       "    </tr>\n",
       "    <tr>\n",
       "      <th>1</th>\n",
       "      <td>1</td>\n",
       "      <td>[235840, 96663, 59758, 160474, 285719, 156723,...</td>\n",
       "    </tr>\n",
       "    <tr>\n",
       "      <th>2</th>\n",
       "      <td>2</td>\n",
       "      <td>[119592, 30970, 30760, 209122]</td>\n",
       "    </tr>\n",
       "    <tr>\n",
       "      <th>3</th>\n",
       "      <td>3</td>\n",
       "      <td>[236065, 236294, 234686, 233769, 235665, 23513...</td>\n",
       "    </tr>\n",
       "    <tr>\n",
       "      <th>4</th>\n",
       "      <td>4</td>\n",
       "      <td>[48915, 44488, 195887, 195084, 63307, 336499, ...</td>\n",
       "    </tr>\n",
       "    <tr>\n",
       "      <th>...</th>\n",
       "      <td>...</td>\n",
       "      <td>...</td>\n",
       "    </tr>\n",
       "    <tr>\n",
       "      <th>322892</th>\n",
       "      <td>322892</td>\n",
       "      <td>[42567, 39894]</td>\n",
       "    </tr>\n",
       "    <tr>\n",
       "      <th>322893</th>\n",
       "      <td>322893</td>\n",
       "      <td>[50644, 36162]</td>\n",
       "    </tr>\n",
       "    <tr>\n",
       "      <th>322894</th>\n",
       "      <td>322894</td>\n",
       "      <td>[36162, 168401]</td>\n",
       "    </tr>\n",
       "    <tr>\n",
       "      <th>322895</th>\n",
       "      <td>322895</td>\n",
       "      <td>[289197, 63746]</td>\n",
       "    </tr>\n",
       "    <tr>\n",
       "      <th>322896</th>\n",
       "      <td>322896</td>\n",
       "      <td>[30760, 157507]</td>\n",
       "    </tr>\n",
       "  </tbody>\n",
       "</table>\n",
       "<p>322897 rows × 2 columns</p>\n",
       "</div>"
      ],
      "text/plain": [
       "        user_id                              LIST_click_article_id\n",
       "0             0  [157541, 68866, 96755, 313996, 160158, 233470,...\n",
       "1             1  [235840, 96663, 59758, 160474, 285719, 156723,...\n",
       "2             2                     [119592, 30970, 30760, 209122]\n",
       "3             3  [236065, 236294, 234686, 233769, 235665, 23513...\n",
       "4             4  [48915, 44488, 195887, 195084, 63307, 336499, ...\n",
       "...         ...                                                ...\n",
       "322892   322892                                     [42567, 39894]\n",
       "322893   322893                                     [50644, 36162]\n",
       "322894   322894                                    [36162, 168401]\n",
       "322895   322895                                    [289197, 63746]\n",
       "322896   322896                                    [30760, 157507]\n",
       "\n",
       "[322897 rows x 2 columns]"
      ]
     },
     "execution_count": 21,
     "metadata": {},
     "output_type": "execute_result"
    }
   ],
   "source": [
    "df"
   ]
  },
  {
   "cell_type": "markdown",
   "metadata": {},
   "source": [
    "## Surprise "
   ]
  },
  {
   "cell_type": "code",
   "execution_count": 22,
   "metadata": {},
   "outputs": [
    {
     "name": "stdout",
     "output_type": "stream",
     "text": [
      "Defaulting to user installation because normal site-packages is not writeable\n",
      "Collecting surprise\n",
      "  Downloading surprise-0.1-py2.py3-none-any.whl (1.8 kB)\n",
      "Requirement already satisfied: scikit-surprise in c:\\users\\django\\appdata\\roaming\\python\\python39\\site-packages (from surprise) (1.1.1)\n",
      "Requirement already satisfied: numpy>=1.11.2 in c:\\users\\django\\appdata\\roaming\\python\\python39\\site-packages (from scikit-surprise->surprise) (1.19.5)\n",
      "Requirement already satisfied: joblib>=0.11 in c:\\users\\django\\appdata\\roaming\\python\\python39\\site-packages (from scikit-surprise->surprise) (1.1.0)\n",
      "Requirement already satisfied: six>=1.10.0 in c:\\users\\django\\appdata\\roaming\\python\\python39\\site-packages (from scikit-surprise->surprise) (1.15.0)\n",
      "Requirement already satisfied: scipy>=1.0.0 in c:\\users\\django\\appdata\\roaming\\python\\python39\\site-packages (from scikit-surprise->surprise) (1.7.1)\n",
      "Installing collected packages: surprise\n",
      "Successfully installed surprise-0.1\n",
      "Note: you may need to restart the kernel to use updated packages.\n"
     ]
    },
    {
     "name": "stderr",
     "output_type": "stream",
     "text": [
      "WARNING: You are using pip version 21.2.4; however, version 21.3.1 is available.\n",
      "You should consider upgrading via the 'C:\\Program Files\\Python 3.9.7\\python.exe -m pip install --upgrade pip' command.\n"
     ]
    }
   ],
   "source": [
    "pip install surprise"
   ]
  },
  {
   "cell_type": "code",
   "execution_count": 23,
   "metadata": {},
   "outputs": [],
   "source": [
    "dataframe = clicks.merge(article_meta, left_on='click_article_id', right_on='article_id')"
   ]
  },
  {
   "cell_type": "code",
   "execution_count": 24,
   "metadata": {},
   "outputs": [
    {
     "data": {
      "text/html": [
       "<div>\n",
       "<style scoped>\n",
       "    .dataframe tbody tr th:only-of-type {\n",
       "        vertical-align: middle;\n",
       "    }\n",
       "\n",
       "    .dataframe tbody tr th {\n",
       "        vertical-align: top;\n",
       "    }\n",
       "\n",
       "    .dataframe thead th {\n",
       "        text-align: right;\n",
       "    }\n",
       "</style>\n",
       "<table border=\"1\" class=\"dataframe\">\n",
       "  <thead>\n",
       "    <tr style=\"text-align: right;\">\n",
       "      <th></th>\n",
       "      <th>user_id</th>\n",
       "      <th>session_id</th>\n",
       "      <th>session_start</th>\n",
       "      <th>session_size</th>\n",
       "      <th>click_article_id</th>\n",
       "      <th>click_timestamp</th>\n",
       "      <th>click_environment</th>\n",
       "      <th>click_deviceGroup</th>\n",
       "      <th>click_os</th>\n",
       "      <th>click_country</th>\n",
       "      <th>click_region</th>\n",
       "      <th>click_referrer_type</th>\n",
       "      <th>article_id</th>\n",
       "      <th>category_id</th>\n",
       "      <th>created_at_ts</th>\n",
       "      <th>publisher_id</th>\n",
       "      <th>words_count</th>\n",
       "    </tr>\n",
       "  </thead>\n",
       "  <tbody>\n",
       "    <tr>\n",
       "      <th>0</th>\n",
       "      <td>0</td>\n",
       "      <td>1506825423271737</td>\n",
       "      <td>1506825423000</td>\n",
       "      <td>2</td>\n",
       "      <td>157541</td>\n",
       "      <td>1506826828020</td>\n",
       "      <td>4</td>\n",
       "      <td>3</td>\n",
       "      <td>20</td>\n",
       "      <td>1</td>\n",
       "      <td>20</td>\n",
       "      <td>2</td>\n",
       "      <td>157541</td>\n",
       "      <td>281</td>\n",
       "      <td>1506800518000</td>\n",
       "      <td>0</td>\n",
       "      <td>280</td>\n",
       "    </tr>\n",
       "    <tr>\n",
       "      <th>1</th>\n",
       "      <td>20</td>\n",
       "      <td>1506825727279757</td>\n",
       "      <td>1506825727000</td>\n",
       "      <td>2</td>\n",
       "      <td>157541</td>\n",
       "      <td>1506836548634</td>\n",
       "      <td>4</td>\n",
       "      <td>1</td>\n",
       "      <td>17</td>\n",
       "      <td>1</td>\n",
       "      <td>9</td>\n",
       "      <td>1</td>\n",
       "      <td>157541</td>\n",
       "      <td>281</td>\n",
       "      <td>1506800518000</td>\n",
       "      <td>0</td>\n",
       "      <td>280</td>\n",
       "    </tr>\n",
       "    <tr>\n",
       "      <th>2</th>\n",
       "      <td>44</td>\n",
       "      <td>1506826139185781</td>\n",
       "      <td>1506826139000</td>\n",
       "      <td>5</td>\n",
       "      <td>157541</td>\n",
       "      <td>1506857278141</td>\n",
       "      <td>4</td>\n",
       "      <td>1</td>\n",
       "      <td>17</td>\n",
       "      <td>1</td>\n",
       "      <td>12</td>\n",
       "      <td>1</td>\n",
       "      <td>157541</td>\n",
       "      <td>281</td>\n",
       "      <td>1506800518000</td>\n",
       "      <td>0</td>\n",
       "      <td>280</td>\n",
       "    </tr>\n",
       "    <tr>\n",
       "      <th>3</th>\n",
       "      <td>45</td>\n",
       "      <td>1506826142324782</td>\n",
       "      <td>1506826142000</td>\n",
       "      <td>2</td>\n",
       "      <td>157541</td>\n",
       "      <td>1506827309970</td>\n",
       "      <td>4</td>\n",
       "      <td>1</td>\n",
       "      <td>17</td>\n",
       "      <td>1</td>\n",
       "      <td>17</td>\n",
       "      <td>1</td>\n",
       "      <td>157541</td>\n",
       "      <td>281</td>\n",
       "      <td>1506800518000</td>\n",
       "      <td>0</td>\n",
       "      <td>280</td>\n",
       "    </tr>\n",
       "    <tr>\n",
       "      <th>4</th>\n",
       "      <td>76</td>\n",
       "      <td>1506826463226813</td>\n",
       "      <td>1506826463000</td>\n",
       "      <td>2</td>\n",
       "      <td>157541</td>\n",
       "      <td>1506828823469</td>\n",
       "      <td>4</td>\n",
       "      <td>3</td>\n",
       "      <td>2</td>\n",
       "      <td>1</td>\n",
       "      <td>21</td>\n",
       "      <td>1</td>\n",
       "      <td>157541</td>\n",
       "      <td>281</td>\n",
       "      <td>1506800518000</td>\n",
       "      <td>0</td>\n",
       "      <td>280</td>\n",
       "    </tr>\n",
       "    <tr>\n",
       "      <th>...</th>\n",
       "      <td>...</td>\n",
       "      <td>...</td>\n",
       "      <td>...</td>\n",
       "      <td>...</td>\n",
       "      <td>...</td>\n",
       "      <td>...</td>\n",
       "      <td>...</td>\n",
       "      <td>...</td>\n",
       "      <td>...</td>\n",
       "      <td>...</td>\n",
       "      <td>...</td>\n",
       "      <td>...</td>\n",
       "      <td>...</td>\n",
       "      <td>...</td>\n",
       "      <td>...</td>\n",
       "      <td>...</td>\n",
       "      <td>...</td>\n",
       "    </tr>\n",
       "    <tr>\n",
       "      <th>2988176</th>\n",
       "      <td>195186</td>\n",
       "      <td>1508210422411129</td>\n",
       "      <td>1508210422000</td>\n",
       "      <td>4</td>\n",
       "      <td>2221</td>\n",
       "      <td>1508210469562</td>\n",
       "      <td>4</td>\n",
       "      <td>3</td>\n",
       "      <td>2</td>\n",
       "      <td>1</td>\n",
       "      <td>1</td>\n",
       "      <td>1</td>\n",
       "      <td>2221</td>\n",
       "      <td>1</td>\n",
       "      <td>1508192469000</td>\n",
       "      <td>0</td>\n",
       "      <td>103</td>\n",
       "    </tr>\n",
       "    <tr>\n",
       "      <th>2988177</th>\n",
       "      <td>75658</td>\n",
       "      <td>1508210696185183</td>\n",
       "      <td>1508210696000</td>\n",
       "      <td>4</td>\n",
       "      <td>271117</td>\n",
       "      <td>1508210951703</td>\n",
       "      <td>4</td>\n",
       "      <td>1</td>\n",
       "      <td>17</td>\n",
       "      <td>1</td>\n",
       "      <td>4</td>\n",
       "      <td>2</td>\n",
       "      <td>271117</td>\n",
       "      <td>399</td>\n",
       "      <td>1504276061000</td>\n",
       "      <td>0</td>\n",
       "      <td>156</td>\n",
       "    </tr>\n",
       "    <tr>\n",
       "      <th>2988178</th>\n",
       "      <td>217129</td>\n",
       "      <td>1508210976336246</td>\n",
       "      <td>1508210976000</td>\n",
       "      <td>2</td>\n",
       "      <td>20204</td>\n",
       "      <td>1508210990810</td>\n",
       "      <td>4</td>\n",
       "      <td>3</td>\n",
       "      <td>2</td>\n",
       "      <td>1</td>\n",
       "      <td>21</td>\n",
       "      <td>5</td>\n",
       "      <td>20204</td>\n",
       "      <td>9</td>\n",
       "      <td>1491934410000</td>\n",
       "      <td>0</td>\n",
       "      <td>242</td>\n",
       "    </tr>\n",
       "    <tr>\n",
       "      <th>2988179</th>\n",
       "      <td>217129</td>\n",
       "      <td>1508210976336246</td>\n",
       "      <td>1508210976000</td>\n",
       "      <td>2</td>\n",
       "      <td>70196</td>\n",
       "      <td>1508211020810</td>\n",
       "      <td>4</td>\n",
       "      <td>3</td>\n",
       "      <td>2</td>\n",
       "      <td>1</td>\n",
       "      <td>21</td>\n",
       "      <td>5</td>\n",
       "      <td>70196</td>\n",
       "      <td>136</td>\n",
       "      <td>1491298495000</td>\n",
       "      <td>0</td>\n",
       "      <td>206</td>\n",
       "    </tr>\n",
       "    <tr>\n",
       "      <th>2988180</th>\n",
       "      <td>51099</td>\n",
       "      <td>1508211320193320</td>\n",
       "      <td>1508211320000</td>\n",
       "      <td>2</td>\n",
       "      <td>98243</td>\n",
       "      <td>1508211782523</td>\n",
       "      <td>4</td>\n",
       "      <td>3</td>\n",
       "      <td>2</td>\n",
       "      <td>1</td>\n",
       "      <td>25</td>\n",
       "      <td>5</td>\n",
       "      <td>98243</td>\n",
       "      <td>220</td>\n",
       "      <td>1476754285000</td>\n",
       "      <td>0</td>\n",
       "      <td>44</td>\n",
       "    </tr>\n",
       "  </tbody>\n",
       "</table>\n",
       "<p>2988181 rows × 17 columns</p>\n",
       "</div>"
      ],
      "text/plain": [
       "        user_id        session_id  session_start session_size  \\\n",
       "0             0  1506825423271737  1506825423000            2   \n",
       "1            20  1506825727279757  1506825727000            2   \n",
       "2            44  1506826139185781  1506826139000            5   \n",
       "3            45  1506826142324782  1506826142000            2   \n",
       "4            76  1506826463226813  1506826463000            2   \n",
       "...         ...               ...            ...          ...   \n",
       "2988176  195186  1508210422411129  1508210422000            4   \n",
       "2988177   75658  1508210696185183  1508210696000            4   \n",
       "2988178  217129  1508210976336246  1508210976000            2   \n",
       "2988179  217129  1508210976336246  1508210976000            2   \n",
       "2988180   51099  1508211320193320  1508211320000            2   \n",
       "\n",
       "        click_article_id click_timestamp click_environment click_deviceGroup  \\\n",
       "0                 157541   1506826828020                 4                 3   \n",
       "1                 157541   1506836548634                 4                 1   \n",
       "2                 157541   1506857278141                 4                 1   \n",
       "3                 157541   1506827309970                 4                 1   \n",
       "4                 157541   1506828823469                 4                 3   \n",
       "...                  ...             ...               ...               ...   \n",
       "2988176             2221   1508210469562                 4                 3   \n",
       "2988177           271117   1508210951703                 4                 1   \n",
       "2988178            20204   1508210990810                 4                 3   \n",
       "2988179            70196   1508211020810                 4                 3   \n",
       "2988180            98243   1508211782523                 4                 3   \n",
       "\n",
       "        click_os click_country click_region click_referrer_type  article_id  \\\n",
       "0             20             1           20                   2      157541   \n",
       "1             17             1            9                   1      157541   \n",
       "2             17             1           12                   1      157541   \n",
       "3             17             1           17                   1      157541   \n",
       "4              2             1           21                   1      157541   \n",
       "...          ...           ...          ...                 ...         ...   \n",
       "2988176        2             1            1                   1        2221   \n",
       "2988177       17             1            4                   2      271117   \n",
       "2988178        2             1           21                   5       20204   \n",
       "2988179        2             1           21                   5       70196   \n",
       "2988180        2             1           25                   5       98243   \n",
       "\n",
       "         category_id  created_at_ts  publisher_id  words_count  \n",
       "0                281  1506800518000             0          280  \n",
       "1                281  1506800518000             0          280  \n",
       "2                281  1506800518000             0          280  \n",
       "3                281  1506800518000             0          280  \n",
       "4                281  1506800518000             0          280  \n",
       "...              ...            ...           ...          ...  \n",
       "2988176            1  1508192469000             0          103  \n",
       "2988177          399  1504276061000             0          156  \n",
       "2988178            9  1491934410000             0          242  \n",
       "2988179          136  1491298495000             0          206  \n",
       "2988180          220  1476754285000             0           44  \n",
       "\n",
       "[2988181 rows x 17 columns]"
      ]
     },
     "execution_count": 24,
     "metadata": {},
     "output_type": "execute_result"
    }
   ],
   "source": [
    "dataframe"
   ]
  },
  {
   "cell_type": "code",
   "execution_count": 25,
   "metadata": {},
   "outputs": [],
   "source": [
    "dataframe = dataframe[['user_id', 'article_id', 'category_id']]"
   ]
  },
  {
   "cell_type": "code",
   "execution_count": 26,
   "metadata": {
    "scrolled": true
   },
   "outputs": [
    {
     "data": {
      "text/html": [
       "<div>\n",
       "<style scoped>\n",
       "    .dataframe tbody tr th:only-of-type {\n",
       "        vertical-align: middle;\n",
       "    }\n",
       "\n",
       "    .dataframe tbody tr th {\n",
       "        vertical-align: top;\n",
       "    }\n",
       "\n",
       "    .dataframe thead th {\n",
       "        text-align: right;\n",
       "    }\n",
       "</style>\n",
       "<table border=\"1\" class=\"dataframe\">\n",
       "  <thead>\n",
       "    <tr style=\"text-align: right;\">\n",
       "      <th></th>\n",
       "      <th>user_id</th>\n",
       "      <th>article_id</th>\n",
       "      <th>category_id</th>\n",
       "    </tr>\n",
       "  </thead>\n",
       "  <tbody>\n",
       "    <tr>\n",
       "      <th>0</th>\n",
       "      <td>0</td>\n",
       "      <td>157541</td>\n",
       "      <td>281</td>\n",
       "    </tr>\n",
       "    <tr>\n",
       "      <th>1</th>\n",
       "      <td>20</td>\n",
       "      <td>157541</td>\n",
       "      <td>281</td>\n",
       "    </tr>\n",
       "    <tr>\n",
       "      <th>2</th>\n",
       "      <td>44</td>\n",
       "      <td>157541</td>\n",
       "      <td>281</td>\n",
       "    </tr>\n",
       "    <tr>\n",
       "      <th>3</th>\n",
       "      <td>45</td>\n",
       "      <td>157541</td>\n",
       "      <td>281</td>\n",
       "    </tr>\n",
       "    <tr>\n",
       "      <th>4</th>\n",
       "      <td>76</td>\n",
       "      <td>157541</td>\n",
       "      <td>281</td>\n",
       "    </tr>\n",
       "    <tr>\n",
       "      <th>...</th>\n",
       "      <td>...</td>\n",
       "      <td>...</td>\n",
       "      <td>...</td>\n",
       "    </tr>\n",
       "    <tr>\n",
       "      <th>2988176</th>\n",
       "      <td>195186</td>\n",
       "      <td>2221</td>\n",
       "      <td>1</td>\n",
       "    </tr>\n",
       "    <tr>\n",
       "      <th>2988177</th>\n",
       "      <td>75658</td>\n",
       "      <td>271117</td>\n",
       "      <td>399</td>\n",
       "    </tr>\n",
       "    <tr>\n",
       "      <th>2988178</th>\n",
       "      <td>217129</td>\n",
       "      <td>20204</td>\n",
       "      <td>9</td>\n",
       "    </tr>\n",
       "    <tr>\n",
       "      <th>2988179</th>\n",
       "      <td>217129</td>\n",
       "      <td>70196</td>\n",
       "      <td>136</td>\n",
       "    </tr>\n",
       "    <tr>\n",
       "      <th>2988180</th>\n",
       "      <td>51099</td>\n",
       "      <td>98243</td>\n",
       "      <td>220</td>\n",
       "    </tr>\n",
       "  </tbody>\n",
       "</table>\n",
       "<p>2988181 rows × 3 columns</p>\n",
       "</div>"
      ],
      "text/plain": [
       "        user_id  article_id  category_id\n",
       "0             0      157541          281\n",
       "1            20      157541          281\n",
       "2            44      157541          281\n",
       "3            45      157541          281\n",
       "4            76      157541          281\n",
       "...         ...         ...          ...\n",
       "2988176  195186        2221            1\n",
       "2988177   75658      271117          399\n",
       "2988178  217129       20204            9\n",
       "2988179  217129       70196          136\n",
       "2988180   51099       98243          220\n",
       "\n",
       "[2988181 rows x 3 columns]"
      ]
     },
     "execution_count": 26,
     "metadata": {},
     "output_type": "execute_result"
    }
   ],
   "source": [
    "dataframe"
   ]
  },
  {
   "cell_type": "code",
   "execution_count": 31,
   "metadata": {},
   "outputs": [
    {
     "data": {
      "text/plain": [
       "user_id  category_id\n",
       "0        136            1\n",
       "         186            2\n",
       "         209            1\n",
       "         281            2\n",
       "         375            1\n",
       "                       ..\n",
       "322894   297            1\n",
       "322895   133            1\n",
       "         418            1\n",
       "322896   26             1\n",
       "         281            1\n",
       "Length: 1882302, dtype: int64"
      ]
     },
     "execution_count": 31,
     "metadata": {},
     "output_type": "execute_result"
    }
   ],
   "source": [
    "series"
   ]
  },
  {
   "cell_type": "markdown",
   "metadata": {},
   "source": [
    "## Create Rating"
   ]
  },
  {
   "cell_type": "code",
   "execution_count": 29,
   "metadata": {},
   "outputs": [],
   "source": [
    "series = dataframe.groupby(['user_id', 'category_id']).size()\n",
    "user_rating_matrix = series.to_frame()\n",
    "user_rating_matrix = user_rating_matrix.reset_index()\n",
    "user_rating_matrix.rename(columns = {0:'rate'}, inplace = True)"
   ]
  },
  {
   "cell_type": "code",
   "execution_count": 30,
   "metadata": {},
   "outputs": [
    {
     "data": {
      "text/html": [
       "<div>\n",
       "<style scoped>\n",
       "    .dataframe tbody tr th:only-of-type {\n",
       "        vertical-align: middle;\n",
       "    }\n",
       "\n",
       "    .dataframe tbody tr th {\n",
       "        vertical-align: top;\n",
       "    }\n",
       "\n",
       "    .dataframe thead th {\n",
       "        text-align: right;\n",
       "    }\n",
       "</style>\n",
       "<table border=\"1\" class=\"dataframe\">\n",
       "  <thead>\n",
       "    <tr style=\"text-align: right;\">\n",
       "      <th></th>\n",
       "      <th>user_id</th>\n",
       "      <th>category_id</th>\n",
       "      <th>rate</th>\n",
       "    </tr>\n",
       "  </thead>\n",
       "  <tbody>\n",
       "    <tr>\n",
       "      <th>218187</th>\n",
       "      <td>19706</td>\n",
       "      <td>268</td>\n",
       "      <td>1</td>\n",
       "    </tr>\n",
       "    <tr>\n",
       "      <th>778222</th>\n",
       "      <td>81642</td>\n",
       "      <td>268</td>\n",
       "      <td>1</td>\n",
       "    </tr>\n",
       "    <tr>\n",
       "      <th>1794083</th>\n",
       "      <td>287658</td>\n",
       "      <td>268</td>\n",
       "      <td>2</td>\n",
       "    </tr>\n",
       "    <tr>\n",
       "      <th>1833041</th>\n",
       "      <td>301932</td>\n",
       "      <td>268</td>\n",
       "      <td>1</td>\n",
       "    </tr>\n",
       "    <tr>\n",
       "      <th>1870579</th>\n",
       "      <td>317511</td>\n",
       "      <td>268</td>\n",
       "      <td>1</td>\n",
       "    </tr>\n",
       "  </tbody>\n",
       "</table>\n",
       "</div>"
      ],
      "text/plain": [
       "         user_id  category_id  rate\n",
       "218187     19706          268     1\n",
       "778222     81642          268     1\n",
       "1794083   287658          268     2\n",
       "1833041   301932          268     1\n",
       "1870579   317511          268     1"
      ]
     },
     "execution_count": 30,
     "metadata": {},
     "output_type": "execute_result"
    }
   ],
   "source": [
    "user_rating_matrix[user_rating_matrix.category_id==268]\n"
   ]
  },
  {
   "cell_type": "code",
   "execution_count": 32,
   "metadata": {},
   "outputs": [],
   "source": [
    "from surprise import Reader, Dataset\n",
    "from surprise.model_selection import train_test_split, cross_validate"
   ]
  },
  {
   "cell_type": "code",
   "execution_count": 33,
   "metadata": {},
   "outputs": [],
   "source": [
    "reader = Reader(rating_scale=(1,10))\n",
    "_x = user_rating_matrix.loc[user_rating_matrix.rate > 1]\n",
    "data = Dataset.load_from_df(_x[['user_id', 'category_id', 'rate']], reader)\n",
    "\n",
    "# Reader class use to parse a file containing ratings"
   ]
  },
  {
   "cell_type": "code",
   "execution_count": 34,
   "metadata": {},
   "outputs": [
    {
     "ename": "NameError",
     "evalue": "name 'x' is not defined",
     "output_type": "error",
     "traceback": [
      "\u001b[1;31m---------------------------------------------------------------------------\u001b[0m",
      "\u001b[1;31mNameError\u001b[0m                                 Traceback (most recent call last)",
      "\u001b[1;32m~\\AppData\\Local\\Temp/ipykernel_20804/32546335.py\u001b[0m in \u001b[0;36m<module>\u001b[1;34m\u001b[0m\n\u001b[1;32m----> 1\u001b[1;33m \u001b[0mx\u001b[0m\u001b[1;33m\u001b[0m\u001b[1;33m\u001b[0m\u001b[0m\n\u001b[0m",
      "\u001b[1;31mNameError\u001b[0m: name 'x' is not defined"
     ]
    }
   ],
   "source": [
    "x"
   ]
  },
  {
   "cell_type": "markdown",
   "metadata": {},
   "source": [
    "### Predict"
   ]
  },
  {
   "cell_type": "code",
   "execution_count": 35,
   "metadata": {},
   "outputs": [],
   "source": [
    "\n",
    "train, test = train_test_split(data, test_size=0.25)\n"
   ]
  },
  {
   "cell_type": "code",
   "execution_count": 36,
   "metadata": {},
   "outputs": [
    {
     "data": {
      "text/plain": [
       "<surprise.prediction_algorithms.matrix_factorization.SVD at 0x28231bceeb0>"
      ]
     },
     "execution_count": 36,
     "metadata": {},
     "output_type": "execute_result"
    }
   ],
   "source": [
    "from surprise import SVD, accuracy\n",
    "algo = SVD()\n",
    "algo.fit(train)"
   ]
  },
  {
   "cell_type": "code",
   "execution_count": 37,
   "metadata": {},
   "outputs": [],
   "source": [
    "predictions = algo.test(test)\n"
   ]
  },
  {
   "cell_type": "code",
   "execution_count": 38,
   "metadata": {},
   "outputs": [
    {
     "name": "stdout",
     "output_type": "stream",
     "text": [
      "RMSE: 7.5297\n"
     ]
    },
    {
     "data": {
      "text/plain": [
       "7.529706774154791"
      ]
     },
     "execution_count": 38,
     "metadata": {},
     "output_type": "execute_result"
    }
   ],
   "source": [
    "accuracy.rmse(predictions)"
   ]
  },
  {
   "cell_type": "code",
   "execution_count": 39,
   "metadata": {},
   "outputs": [],
   "source": [
    "from collections import defaultdict\n",
    "\n",
    "\n",
    "def gtop_n(predictions, n=10):\n",
    "    \n",
    "\n",
    "    # First map the predictions to each user.\n",
    "    top_n = defaultdict(list)\n",
    "    for uid, iid, true_r, est, _ in predictions:\n",
    "        top_n[uid].append((iid, est))\n",
    "\n",
    "    # Then sort the predictions for each user and retrieve the k highest ones.\n",
    "    for uid, user_ratings in top_n.items():\n",
    "        user_ratings.sort(key=lambda x: x[1], reverse=True)\n",
    "        top_n[uid] = user_ratings[:n]\n",
    "\n",
    "    return top_n"
   ]
  },
  {
   "cell_type": "code",
   "execution_count": 40,
   "metadata": {},
   "outputs": [],
   "source": [
    "top_n = gtop_n(predictions)"
   ]
  },
  {
   "cell_type": "code",
   "execution_count": 41,
   "metadata": {},
   "outputs": [],
   "source": [
    "def findRecom(dic, userId):\n",
    "    res = []\n",
    "    query = dic[userId]\n",
    "    for uid, user_ratings in query:\n",
    "        res.append(uid)\n",
    "    return res"
   ]
  },
  {
   "cell_type": "markdown",
   "metadata": {},
   "source": [
    "## Find category "
   ]
  },
  {
   "cell_type": "code",
   "execution_count": 42,
   "metadata": {},
   "outputs": [
    {
     "data": {
      "text/plain": [
       "[399]"
      ]
     },
     "execution_count": 42,
     "metadata": {},
     "output_type": "execute_result"
    }
   ],
   "source": [
    "findRecom(top_n, 9032)"
   ]
  },
  {
   "cell_type": "markdown",
   "metadata": {},
   "source": [
    "## content based"
   ]
  },
  {
   "cell_type": "code",
   "execution_count": 43,
   "metadata": {},
   "outputs": [
    {
     "data": {
      "text/plain": [
       "array([[-0.16118301, -0.95723313, -0.13794445, ..., -0.231686  ,\n",
       "         0.5974159 ,  0.40962312],\n",
       "       [-0.52321565, -0.974058  ,  0.73860806, ...,  0.18282819,\n",
       "         0.39708954, -0.83436364],\n",
       "       [-0.61961854, -0.9729604 , -0.20736018, ..., -0.44758022,\n",
       "         0.8059317 , -0.28528407],\n",
       "       ...,\n",
       "       [-0.25139043, -0.9762427 ,  0.58609664, ..., -0.14372464,\n",
       "         0.06809307, -0.7050104 ],\n",
       "       [ 0.22434181, -0.92328775, -0.38174152, ...,  0.6871319 ,\n",
       "        -0.5315117 ,  0.01072566],\n",
       "       [-0.25713393, -0.9946313 ,  0.9837918 , ...,  0.98387307,\n",
       "        -0.8381829 , -0.1792827 ]], dtype=float32)"
      ]
     },
     "execution_count": 43,
     "metadata": {},
     "output_type": "execute_result"
    }
   ],
   "source": [
    "embedding"
   ]
  },
  {
   "cell_type": "code",
   "execution_count": 44,
   "metadata": {},
   "outputs": [],
   "source": [
    "from operator import itemgetter\n",
    "\n",
    "def find_top_n_indices(data, top=5):\n",
    "    indexed = enumerate(data)\n",
    "    sorted_data = sorted(indexed, \n",
    "                         key=itemgetter(1), \n",
    "                         reverse=True) \n",
    "    return [d[0] for d in sorted_data[:top]] "
   ]
  },
  {
   "cell_type": "code",
   "execution_count": 45,
   "metadata": {},
   "outputs": [],
   "source": [
    "def recommendFromArticle(article_id, top):\n",
    "    score = []\n",
    "    for i in range(0, len(embedding)):\n",
    "        if(article_id != i):\n",
    "            cos_sim = np.dot(embedding[article_id], embedding[i])/(np.linalg.norm(embedding[article_id])*np.linalg.norm(embedding[i]))\n",
    "            score.append(cos_sim)\n",
    "            \n",
    "    _best_scores = find_top_n_indices(score, top)\n",
    "            \n",
    "    return _best_scores"
   ]
  },
  {
   "cell_type": "markdown",
   "metadata": {},
   "source": [
    "Top articles similar with the choosen article."
   ]
  },
  {
   "cell_type": "code",
   "execution_count": 46,
   "metadata": {},
   "outputs": [
    {
     "ename": "NameError",
     "evalue": "name 'article_id' is not defined",
     "output_type": "error",
     "traceback": [
      "\u001b[1;31m---------------------------------------------------------------------------\u001b[0m",
      "\u001b[1;31mNameError\u001b[0m                                 Traceback (most recent call last)",
      "\u001b[1;32m~\\AppData\\Local\\Temp/ipykernel_20804/3596495706.py\u001b[0m in \u001b[0;36m<module>\u001b[1;34m\u001b[0m\n\u001b[1;32m----> 1\u001b[1;33m \u001b[0mrecommendFromArticle\u001b[0m\u001b[1;33m(\u001b[0m\u001b[0marticle_id\u001b[0m\u001b[1;33m,\u001b[0m \u001b[1;36m10\u001b[0m\u001b[1;33m)\u001b[0m\u001b[1;33m\u001b[0m\u001b[1;33m\u001b[0m\u001b[0m\n\u001b[0m",
      "\u001b[1;31mNameError\u001b[0m: name 'article_id' is not defined"
     ]
    }
   ],
   "source": [
    "recommendFromArticle(article_id, 10)\n"
   ]
  },
  {
   "cell_type": "code",
   "execution_count": null,
   "metadata": {},
   "outputs": [
    {
     "data": {
      "text/html": [
       "<div>\n",
       "<style scoped>\n",
       "    .dataframe tbody tr th:only-of-type {\n",
       "        vertical-align: middle;\n",
       "    }\n",
       "\n",
       "    .dataframe tbody tr th {\n",
       "        vertical-align: top;\n",
       "    }\n",
       "\n",
       "    .dataframe thead th {\n",
       "        text-align: right;\n",
       "    }\n",
       "</style>\n",
       "<table border=\"1\" class=\"dataframe\">\n",
       "  <thead>\n",
       "    <tr style=\"text-align: right;\">\n",
       "      <th></th>\n",
       "      <th>user_id</th>\n",
       "      <th>LIST_click_article_id</th>\n",
       "    </tr>\n",
       "  </thead>\n",
       "  <tbody>\n",
       "    <tr>\n",
       "      <th>0</th>\n",
       "      <td>0</td>\n",
       "      <td>[157541, 68866, 96755, 313996, 160158, 233470,...</td>\n",
       "    </tr>\n",
       "    <tr>\n",
       "      <th>1</th>\n",
       "      <td>1</td>\n",
       "      <td>[235840, 96663, 59758, 160474, 285719, 156723,...</td>\n",
       "    </tr>\n",
       "    <tr>\n",
       "      <th>2</th>\n",
       "      <td>2</td>\n",
       "      <td>[119592, 30970, 30760, 209122]</td>\n",
       "    </tr>\n",
       "    <tr>\n",
       "      <th>3</th>\n",
       "      <td>3</td>\n",
       "      <td>[236065, 236294, 234686, 233769, 235665, 23513...</td>\n",
       "    </tr>\n",
       "    <tr>\n",
       "      <th>4</th>\n",
       "      <td>4</td>\n",
       "      <td>[48915, 44488, 195887, 195084, 63307, 336499, ...</td>\n",
       "    </tr>\n",
       "    <tr>\n",
       "      <th>...</th>\n",
       "      <td>...</td>\n",
       "      <td>...</td>\n",
       "    </tr>\n",
       "    <tr>\n",
       "      <th>322892</th>\n",
       "      <td>322892</td>\n",
       "      <td>[42567, 39894]</td>\n",
       "    </tr>\n",
       "    <tr>\n",
       "      <th>322893</th>\n",
       "      <td>322893</td>\n",
       "      <td>[50644, 36162]</td>\n",
       "    </tr>\n",
       "    <tr>\n",
       "      <th>322894</th>\n",
       "      <td>322894</td>\n",
       "      <td>[36162, 168401]</td>\n",
       "    </tr>\n",
       "    <tr>\n",
       "      <th>322895</th>\n",
       "      <td>322895</td>\n",
       "      <td>[289197, 63746]</td>\n",
       "    </tr>\n",
       "    <tr>\n",
       "      <th>322896</th>\n",
       "      <td>322896</td>\n",
       "      <td>[30760, 157507]</td>\n",
       "    </tr>\n",
       "  </tbody>\n",
       "</table>\n",
       "<p>322897 rows × 2 columns</p>\n",
       "</div>"
      ],
      "text/plain": [
       "        user_id                              LIST_click_article_id\n",
       "0             0  [157541, 68866, 96755, 313996, 160158, 233470,...\n",
       "1             1  [235840, 96663, 59758, 160474, 285719, 156723,...\n",
       "2             2                     [119592, 30970, 30760, 209122]\n",
       "3             3  [236065, 236294, 234686, 233769, 235665, 23513...\n",
       "4             4  [48915, 44488, 195887, 195084, 63307, 336499, ...\n",
       "...         ...                                                ...\n",
       "322892   322892                                     [42567, 39894]\n",
       "322893   322893                                     [50644, 36162]\n",
       "322894   322894                                    [36162, 168401]\n",
       "322895   322895                                    [289197, 63746]\n",
       "322896   322896                                    [30760, 157507]\n",
       "\n",
       "[322897 rows x 2 columns]"
      ]
     },
     "execution_count": 23,
     "metadata": {},
     "output_type": "execute_result"
    }
   ],
   "source": [
    "df"
   ]
  },
  {
   "cell_type": "code",
   "execution_count": null,
   "metadata": {},
   "outputs": [
    {
     "name": "stdout",
     "output_type": "stream",
     "text": [
      "[87277, 86143, 87675, 87030, 87426]\n",
      "[284637, 86733, 86384, 105557, 98308]\n",
      "[233385, 234699, 235382, 234402, 236218]\n",
      "[157384, 158157, 157951, 70966, 161445]\n",
      "[313995, 311966, 312143, 314385, 309865]\n",
      "[92427, 93252, 92408, 90405, 91608]\n",
      "[358036, 159169, 65360, 152053, 153875]\n",
      "[157514, 159283, 157554, 162368, 156355]\n"
     ]
    }
   ],
   "source": [
    "for i in x:\n",
    "    print(recommendFromArticle(i,5))"
   ]
  },
  {
   "cell_type": "code",
   "execution_count": 47,
   "metadata": {},
   "outputs": [],
   "source": [
    "import random"
   ]
  },
  {
   "cell_type": "code",
   "execution_count": null,
   "metadata": {},
   "outputs": [
    {
     "data": {
      "text/plain": [
       "157541"
      ]
     },
     "execution_count": 48,
     "metadata": {},
     "output_type": "execute_result"
    }
   ],
   "source": [
    "random.choice(x)"
   ]
  },
  {
   "cell_type": "code",
   "execution_count": null,
   "metadata": {},
   "outputs": [],
   "source": [
    "len(df.loc[0]['LIST_click_article_id'])\n",
    "var=df.loc[0]['LIST_click_article_id']\n",
    "var = var.replace('[', '').replace(']', '').replace(',', '').split()\n",
    "x=[int(i)for i in var]"
   ]
  },
  {
   "cell_type": "code",
   "execution_count": null,
   "metadata": {},
   "outputs": [
    {
     "data": {
      "text/plain": [
       "8"
      ]
     },
     "execution_count": 45,
     "metadata": {},
     "output_type": "execute_result"
    }
   ],
   "source": [
    "len(x)"
   ]
  },
  {
   "cell_type": "markdown",
   "metadata": {},
   "source": [
    "Final Recommandation Engine"
   ]
  },
  {
   "cell_type": "code",
   "execution_count": 48,
   "metadata": {},
   "outputs": [],
   "source": [
    "def reco_base(user_id):\n",
    "    li=[]\n",
    "    var=df.loc[user_id]['LIST_click_article_id']\n",
    "    var = var.replace('[', '').replace(']', '').replace(',', '').split()\n",
    "    x=[int(i)for i in var]\n",
    "    \n",
    "    x.reverse()  # Avoir les articles les plus récents en premier\n",
    "    if len(x)>=5:\n",
    "        for article in x:\n",
    "            li.append(random.choice(recommendFromArticle(article,10)))\n",
    "            if len(li)==5:\n",
    "                break\n",
    "    else :\n",
    "        while len(li)<5:\n",
    "            for article in x:\n",
    "            \n",
    "                li.append(random.choice(recommendFromArticle(article,10)))\n",
    "                if len(li)==5:\n",
    "                    break\n",
    "                           \n",
    "    return li"
   ]
  },
  {
   "cell_type": "code",
   "execution_count": 49,
   "metadata": {},
   "outputs": [
    {
     "data": {
      "text/plain": [
       "[159299, 72508, 42183, 42237, 42689]"
      ]
     },
     "execution_count": 49,
     "metadata": {},
     "output_type": "execute_result"
    }
   ],
   "source": [
    "reco_base(322892)"
   ]
  },
  {
   "cell_type": "markdown",
   "metadata": {},
   "source": [
    "JSON Test for api"
   ]
  },
  {
   "cell_type": "code",
   "execution_count": null,
   "metadata": {},
   "outputs": [
    {
     "name": "stdout",
     "output_type": "stream",
     "text": [
      "30\n"
     ]
    }
   ],
   "source": [
    "import json\n",
    "\n",
    "# some JSON:\n",
    "x =  '{ \"id\":30}'\n",
    "\n",
    "# parse x:\n",
    "y = json.loads(x)\n",
    "\n",
    "# the result is a Python dictionary:\n",
    "print(y[\"age\"])"
   ]
  },
  {
   "cell_type": "code",
   "execution_count": null,
   "metadata": {},
   "outputs": [],
   "source": [
    "id=y[\"age\"]"
   ]
  },
  {
   "cell_type": "code",
   "execution_count": null,
   "metadata": {},
   "outputs": [
    {
     "data": {
      "text/plain": [
       "[30917, 168838, 225055, 66452, 275139]"
      ]
     },
     "execution_count": 53,
     "metadata": {},
     "output_type": "execute_result"
    }
   ],
   "source": [
    "reco_base(user_id)"
   ]
  },
  {
   "cell_type": "code",
   "execution_count": null,
   "metadata": {},
   "outputs": [
    {
     "data": {
      "text/plain": [
       "'{'"
      ]
     },
     "execution_count": 55,
     "metadata": {},
     "output_type": "execute_result"
    }
   ],
   "source": [
    "x[0]"
   ]
  },
  {
   "cell_type": "markdown",
   "metadata": {},
   "source": [
    "# Create Our recommandation dataframe"
   ]
  },
  {
   "cell_type": "code",
   "execution_count": 62,
   "metadata": {},
   "outputs": [],
   "source": [
    "data = []\n",
    "for i in range (0,10): #We will only make a sample, cause of time needed\n",
    "    rec=reco_base(i)\n",
    "    data.append([i,rec])\n",
    "df_reco = pd.DataFrame(data, columns=[\"userId\",\"Recommandation\"])\n"
   ]
  },
  {
   "cell_type": "code",
   "execution_count": 64,
   "metadata": {},
   "outputs": [
    {
     "data": {
      "text/html": [
       "<div>\n",
       "<style scoped>\n",
       "    .dataframe tbody tr th:only-of-type {\n",
       "        vertical-align: middle;\n",
       "    }\n",
       "\n",
       "    .dataframe tbody tr th {\n",
       "        vertical-align: top;\n",
       "    }\n",
       "\n",
       "    .dataframe thead th {\n",
       "        text-align: right;\n",
       "    }\n",
       "</style>\n",
       "<table border=\"1\" class=\"dataframe\">\n",
       "  <thead>\n",
       "    <tr style=\"text-align: right;\">\n",
       "      <th></th>\n",
       "      <th>userId</th>\n",
       "      <th>Recommandation</th>\n",
       "    </tr>\n",
       "  </thead>\n",
       "  <tbody>\n",
       "    <tr>\n",
       "      <th>0</th>\n",
       "      <td>0</td>\n",
       "      <td>[85768, 86384, 235382, 161445, 314780]</td>\n",
       "    </tr>\n",
       "    <tr>\n",
       "      <th>1</th>\n",
       "      <td>1</td>\n",
       "      <td>[233829, 36290, 178585, 328209, 282964]</td>\n",
       "    </tr>\n",
       "    <tr>\n",
       "      <th>2</th>\n",
       "      <td>2</td>\n",
       "      <td>[205848, 31071, 31713, 118495, 207141]</td>\n",
       "    </tr>\n",
       "    <tr>\n",
       "      <th>3</th>\n",
       "      <td>3</td>\n",
       "      <td>[120539, 230753, 236283, 234282, 292861]</td>\n",
       "    </tr>\n",
       "    <tr>\n",
       "      <th>4</th>\n",
       "      <td>4</td>\n",
       "      <td>[271573, 337085, 63282, 192410, 188928]</td>\n",
       "    </tr>\n",
       "    <tr>\n",
       "      <th>5</th>\n",
       "      <td>5</td>\n",
       "      <td>[149529, 155009, 65978, 69349, 50644]</td>\n",
       "    </tr>\n",
       "    <tr>\n",
       "      <th>6</th>\n",
       "      <td>6</td>\n",
       "      <td>[206929, 202458, 105446, 250640, 99561]</td>\n",
       "    </tr>\n",
       "    <tr>\n",
       "      <th>7</th>\n",
       "      <td>7</td>\n",
       "      <td>[22024, 151770, 277109, 35729, 345760]</td>\n",
       "    </tr>\n",
       "    <tr>\n",
       "      <th>8</th>\n",
       "      <td>8</td>\n",
       "      <td>[22992, 235078, 214080, 95793, 329791]</td>\n",
       "    </tr>\n",
       "    <tr>\n",
       "      <th>9</th>\n",
       "      <td>9</td>\n",
       "      <td>[291636, 338078, 281519, 285320, 292477]</td>\n",
       "    </tr>\n",
       "  </tbody>\n",
       "</table>\n",
       "</div>"
      ],
      "text/plain": [
       "   userId                            Recommandation\n",
       "0       0    [85768, 86384, 235382, 161445, 314780]\n",
       "1       1   [233829, 36290, 178585, 328209, 282964]\n",
       "2       2    [205848, 31071, 31713, 118495, 207141]\n",
       "3       3  [120539, 230753, 236283, 234282, 292861]\n",
       "4       4   [271573, 337085, 63282, 192410, 188928]\n",
       "5       5     [149529, 155009, 65978, 69349, 50644]\n",
       "6       6   [206929, 202458, 105446, 250640, 99561]\n",
       "7       7    [22024, 151770, 277109, 35729, 345760]\n",
       "8       8    [22992, 235078, 214080, 95793, 329791]\n",
       "9       9  [291636, 338078, 281519, 285320, 292477]"
      ]
     },
     "execution_count": 64,
     "metadata": {},
     "output_type": "execute_result"
    }
   ],
   "source": [
    "df_reco"
   ]
  },
  {
   "cell_type": "code",
   "execution_count": 61,
   "metadata": {},
   "outputs": [
    {
     "name": "stdout",
     "output_type": "stream",
     "text": [
      "[list([87277, 105557, 233385, 161445, 312143])]\n"
     ]
    }
   ],
   "source": [
    "print(df_reco[df_reco.userId==0][\"Recommandation\"].values)"
   ]
  },
  {
   "cell_type": "code",
   "execution_count": 63,
   "metadata": {},
   "outputs": [],
   "source": [
    "df_reco.to_csv('df_reco') #Save it to use it"
   ]
  },
  {
   "cell_type": "code",
   "execution_count": null,
   "metadata": {},
   "outputs": [],
   "source": []
  }
 ],
 "metadata": {
  "interpreter": {
   "hash": "9a082aa479e8d71ed26bf91b14136c0502afc0766e542dea9dae85bb177f15e8"
  },
  "kernelspec": {
   "display_name": "Python 3.9.7 64-bit",
   "name": "python3"
  },
  "language_info": {
   "codemirror_mode": {
    "name": "ipython",
    "version": 3
   },
   "file_extension": ".py",
   "mimetype": "text/x-python",
   "name": "python",
   "nbconvert_exporter": "python",
   "pygments_lexer": "ipython3",
   "version": "3.9.7"
  }
 },
 "nbformat": 4,
 "nbformat_minor": 2
}
